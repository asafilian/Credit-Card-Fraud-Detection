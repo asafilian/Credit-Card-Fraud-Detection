{
 "cells": [
  {
   "cell_type": "markdown",
   "metadata": {},
   "source": [
    "# Credit Card Fraud Detection"
   ]
  },
  {
   "cell_type": "markdown",
   "metadata": {},
   "source": [
    "## Executive Summary\n",
    "Recognizing fraudulent credit card transactions is important for credit card companies so that customers are not charged for items that they did not purchase. \n",
    "\n",
    "In this project, I used a [dataset](https://www.kaggle.com/mlg-ulb/creditcardfraud), which has been collected during a research collaboration of Worldline and the Machine Learning Group (http://mlg.ulb.ac.be) of ULB (Université Libre de Bruxelles). The dataset contains 284,807 transactions made by european cardholders in two days (September 2013), where we have 492 fraudulent transactions. Therefore, the dataset is highly imbalanced (the positive class (frauds) account for 0.172% of all transactions). Each transaction is measured by 31 features, where 28 features (denoted by V1, V2, ..., V28) are principal components obtained by PCA; the only two features that were not transformed are 'Time' (the seconds elapsed between each transaction) and 'Amount'; the feature 'Class' is the output variable and it takes value 1 in case of fraud and 0 otherwise.\n",
    "\n",
    "Since the data is highly imbalanced, using only the accuracy as a metric doesn't make sense. We need to use other metrics, such as **PR AUC** (Precision Recall Curve Aunder the Curve) and **F1-score**. \n",
    "\n",
    "I have tried several methods, including **naive Bayes** as a baseline, **logistic regression**, **random forests**, **gradient boosting trees**, and **isolation forests**. The summary of the results have been represented in the following table. As we see in the following table, Isolation Forests gave us the best result. "
   ]
  },
  {
   "cell_type": "markdown",
   "metadata": {},
   "source": [
    "|  &nbsp;   | Naive Bayes | Logistic Regression | Random Forests | Gradient Boosting | Isolation Forests |\n",
    "| --- | --- | --- | --- | --- | --- |\n",
    "| **Accuracy** | 99.37% | 99.91% | **99.97%** | 99.94% | 90.26% |\n",
    "| **Precision** | 15.39% | 84.82% | 95.21% | 82.26% | **99.98%** |\n",
    "| **Recall** | 63.98% | 51.08% | 85.48% | 82.26% | **90.26%** |\n",
    "| **F1-Score** | 24.82% | 63.76% | 90.08% | 82.26% | **94.87%** |\n",
    "| **PR AUC** | 31.15 % | 70.01 % | 88.87 % | 82.27 % | &nbsp; |"
   ]
  },
  {
   "cell_type": "code",
   "execution_count": 1,
   "metadata": {},
   "outputs": [],
   "source": [
    "# to get rid of warnings\n",
    "\n",
    "import warnings\n",
    "import matplotlib.cbook\n",
    "warnings.filterwarnings(\"ignore\",category=matplotlib.cbook.mplDeprecation)\n",
    "warnings.simplefilter(action='ignore', category=FutureWarning)"
   ]
  },
  {
   "cell_type": "code",
   "execution_count": 2,
   "metadata": {},
   "outputs": [],
   "source": [
    "# import packages & modules\n",
    "\n",
    "%matplotlib inline\n",
    "import numpy as np\n",
    "import pandas as pd\n",
    "import matplotlib.pyplot as plt\n",
    "import seaborn as sns\n",
    "from copy import deepcopy\n",
    "\n",
    "from sklearn.preprocessing import MinMaxScaler\n",
    "\n",
    "from sklearn.pipeline import Pipeline\n",
    "\n",
    "from sklearn.model_selection import train_test_split\n",
    "from sklearn.model_selection import cross_val_score\n",
    "from sklearn.model_selection import RandomizedSearchCV, GridSearchCV\n",
    "\n",
    "from sklearn.metrics import accuracy_score\n",
    "from sklearn.metrics import precision_score\n",
    "from sklearn.metrics import recall_score \n",
    "from sklearn.metrics import f1_score \n",
    "from sklearn.metrics import confusion_matrix\n",
    "from sklearn.metrics import precision_recall_curve, auc\n",
    "\n",
    "from sklearn.naive_bayes import GaussianNB\n",
    "from sklearn.linear_model import LogisticRegression \n",
    "from sklearn.ensemble import GradientBoostingClassifier\n",
    "from sklearn.ensemble import RandomForestClassifier\n",
    "from sklearn.ensemble import IsolationForest"
   ]
  },
  {
   "cell_type": "markdown",
   "metadata": {},
   "source": [
    "## Understanding the Data\n",
    "Let us first take a look at the dataset. "
   ]
  },
  {
   "cell_type": "code",
   "execution_count": 3,
   "metadata": {},
   "outputs": [
    {
     "data": {
      "text/html": [
       "<div>\n",
       "<style scoped>\n",
       "    .dataframe tbody tr th:only-of-type {\n",
       "        vertical-align: middle;\n",
       "    }\n",
       "\n",
       "    .dataframe tbody tr th {\n",
       "        vertical-align: top;\n",
       "    }\n",
       "\n",
       "    .dataframe thead th {\n",
       "        text-align: right;\n",
       "    }\n",
       "</style>\n",
       "<table border=\"1\" class=\"dataframe\">\n",
       "  <thead>\n",
       "    <tr style=\"text-align: right;\">\n",
       "      <th></th>\n",
       "      <th>Time</th>\n",
       "      <th>V1</th>\n",
       "      <th>V2</th>\n",
       "      <th>V3</th>\n",
       "      <th>V4</th>\n",
       "      <th>V5</th>\n",
       "      <th>V6</th>\n",
       "      <th>V7</th>\n",
       "      <th>V8</th>\n",
       "      <th>V9</th>\n",
       "      <th>...</th>\n",
       "      <th>V21</th>\n",
       "      <th>V22</th>\n",
       "      <th>V23</th>\n",
       "      <th>V24</th>\n",
       "      <th>V25</th>\n",
       "      <th>V26</th>\n",
       "      <th>V27</th>\n",
       "      <th>V28</th>\n",
       "      <th>Amount</th>\n",
       "      <th>Class</th>\n",
       "    </tr>\n",
       "  </thead>\n",
       "  <tbody>\n",
       "    <tr>\n",
       "      <th>0</th>\n",
       "      <td>0.0</td>\n",
       "      <td>-1.359807</td>\n",
       "      <td>-0.072781</td>\n",
       "      <td>2.536347</td>\n",
       "      <td>1.378155</td>\n",
       "      <td>-0.338321</td>\n",
       "      <td>0.462388</td>\n",
       "      <td>0.239599</td>\n",
       "      <td>0.098698</td>\n",
       "      <td>0.363787</td>\n",
       "      <td>...</td>\n",
       "      <td>-0.018307</td>\n",
       "      <td>0.277838</td>\n",
       "      <td>-0.110474</td>\n",
       "      <td>0.066928</td>\n",
       "      <td>0.128539</td>\n",
       "      <td>-0.189115</td>\n",
       "      <td>0.133558</td>\n",
       "      <td>-0.021053</td>\n",
       "      <td>149.62</td>\n",
       "      <td>0</td>\n",
       "    </tr>\n",
       "    <tr>\n",
       "      <th>1</th>\n",
       "      <td>0.0</td>\n",
       "      <td>1.191857</td>\n",
       "      <td>0.266151</td>\n",
       "      <td>0.166480</td>\n",
       "      <td>0.448154</td>\n",
       "      <td>0.060018</td>\n",
       "      <td>-0.082361</td>\n",
       "      <td>-0.078803</td>\n",
       "      <td>0.085102</td>\n",
       "      <td>-0.255425</td>\n",
       "      <td>...</td>\n",
       "      <td>-0.225775</td>\n",
       "      <td>-0.638672</td>\n",
       "      <td>0.101288</td>\n",
       "      <td>-0.339846</td>\n",
       "      <td>0.167170</td>\n",
       "      <td>0.125895</td>\n",
       "      <td>-0.008983</td>\n",
       "      <td>0.014724</td>\n",
       "      <td>2.69</td>\n",
       "      <td>0</td>\n",
       "    </tr>\n",
       "    <tr>\n",
       "      <th>2</th>\n",
       "      <td>1.0</td>\n",
       "      <td>-1.358354</td>\n",
       "      <td>-1.340163</td>\n",
       "      <td>1.773209</td>\n",
       "      <td>0.379780</td>\n",
       "      <td>-0.503198</td>\n",
       "      <td>1.800499</td>\n",
       "      <td>0.791461</td>\n",
       "      <td>0.247676</td>\n",
       "      <td>-1.514654</td>\n",
       "      <td>...</td>\n",
       "      <td>0.247998</td>\n",
       "      <td>0.771679</td>\n",
       "      <td>0.909412</td>\n",
       "      <td>-0.689281</td>\n",
       "      <td>-0.327642</td>\n",
       "      <td>-0.139097</td>\n",
       "      <td>-0.055353</td>\n",
       "      <td>-0.059752</td>\n",
       "      <td>378.66</td>\n",
       "      <td>0</td>\n",
       "    </tr>\n",
       "    <tr>\n",
       "      <th>3</th>\n",
       "      <td>1.0</td>\n",
       "      <td>-0.966272</td>\n",
       "      <td>-0.185226</td>\n",
       "      <td>1.792993</td>\n",
       "      <td>-0.863291</td>\n",
       "      <td>-0.010309</td>\n",
       "      <td>1.247203</td>\n",
       "      <td>0.237609</td>\n",
       "      <td>0.377436</td>\n",
       "      <td>-1.387024</td>\n",
       "      <td>...</td>\n",
       "      <td>-0.108300</td>\n",
       "      <td>0.005274</td>\n",
       "      <td>-0.190321</td>\n",
       "      <td>-1.175575</td>\n",
       "      <td>0.647376</td>\n",
       "      <td>-0.221929</td>\n",
       "      <td>0.062723</td>\n",
       "      <td>0.061458</td>\n",
       "      <td>123.50</td>\n",
       "      <td>0</td>\n",
       "    </tr>\n",
       "    <tr>\n",
       "      <th>4</th>\n",
       "      <td>2.0</td>\n",
       "      <td>-1.158233</td>\n",
       "      <td>0.877737</td>\n",
       "      <td>1.548718</td>\n",
       "      <td>0.403034</td>\n",
       "      <td>-0.407193</td>\n",
       "      <td>0.095921</td>\n",
       "      <td>0.592941</td>\n",
       "      <td>-0.270533</td>\n",
       "      <td>0.817739</td>\n",
       "      <td>...</td>\n",
       "      <td>-0.009431</td>\n",
       "      <td>0.798278</td>\n",
       "      <td>-0.137458</td>\n",
       "      <td>0.141267</td>\n",
       "      <td>-0.206010</td>\n",
       "      <td>0.502292</td>\n",
       "      <td>0.219422</td>\n",
       "      <td>0.215153</td>\n",
       "      <td>69.99</td>\n",
       "      <td>0</td>\n",
       "    </tr>\n",
       "  </tbody>\n",
       "</table>\n",
       "<p>5 rows × 31 columns</p>\n",
       "</div>"
      ],
      "text/plain": [
       "   Time        V1        V2        V3        V4        V5        V6        V7  \\\n",
       "0   0.0 -1.359807 -0.072781  2.536347  1.378155 -0.338321  0.462388  0.239599   \n",
       "1   0.0  1.191857  0.266151  0.166480  0.448154  0.060018 -0.082361 -0.078803   \n",
       "2   1.0 -1.358354 -1.340163  1.773209  0.379780 -0.503198  1.800499  0.791461   \n",
       "3   1.0 -0.966272 -0.185226  1.792993 -0.863291 -0.010309  1.247203  0.237609   \n",
       "4   2.0 -1.158233  0.877737  1.548718  0.403034 -0.407193  0.095921  0.592941   \n",
       "\n",
       "         V8        V9  ...       V21       V22       V23       V24       V25  \\\n",
       "0  0.098698  0.363787  ... -0.018307  0.277838 -0.110474  0.066928  0.128539   \n",
       "1  0.085102 -0.255425  ... -0.225775 -0.638672  0.101288 -0.339846  0.167170   \n",
       "2  0.247676 -1.514654  ...  0.247998  0.771679  0.909412 -0.689281 -0.327642   \n",
       "3  0.377436 -1.387024  ... -0.108300  0.005274 -0.190321 -1.175575  0.647376   \n",
       "4 -0.270533  0.817739  ... -0.009431  0.798278 -0.137458  0.141267 -0.206010   \n",
       "\n",
       "        V26       V27       V28  Amount  Class  \n",
       "0 -0.189115  0.133558 -0.021053  149.62      0  \n",
       "1  0.125895 -0.008983  0.014724    2.69      0  \n",
       "2 -0.139097 -0.055353 -0.059752  378.66      0  \n",
       "3 -0.221929  0.062723  0.061458  123.50      0  \n",
       "4  0.502292  0.219422  0.215153   69.99      0  \n",
       "\n",
       "[5 rows x 31 columns]"
      ]
     },
     "execution_count": 3,
     "metadata": {},
     "output_type": "execute_result"
    }
   ],
   "source": [
    "data = pd.read_csv('creditcard.csv')\n",
    "data['Class'] = data['Class'].astype('category')\n",
    "data.head()"
   ]
  },
  {
   "cell_type": "code",
   "execution_count": 13,
   "metadata": {},
   "outputs": [
    {
     "name": "stdout",
     "output_type": "stream",
     "text": [
      "Number of normal transactions:284315 (99.83%)\n",
      "Number of fraudulent transactions: 492 (0.17%)\n"
     ]
    }
   ],
   "source": [
    "# Normal vs. Fradulent Transactions\n",
    "\n",
    "normal_transactions = data[data['Class'] == 0]\n",
    "fraud_transactions = data[data['Class'] == 1]\n",
    "print('Number of normal transactions:' + format(len(normal_transactions)) + \n",
    "     ' (' + format(round(len(normal_transactions)/len(data)*100, 2)) + '%)')\n",
    "print('Number of fraudulent transactions: '+ format(len(fraud_transactions)) + \n",
    "     ' (' + format(round(len(fraud_transactions)/len(data)*100, 2)) + '%)')"
   ]
  },
  {
   "cell_type": "code",
   "execution_count": 14,
   "metadata": {},
   "outputs": [
    {
     "name": "stdout",
     "output_type": "stream",
     "text": [
      "Summary of \"Amount\" in normal transactions:\n",
      "count    284315.000000\n",
      "mean         88.291022\n",
      "std         250.105092\n",
      "min           0.000000\n",
      "25%           5.650000\n",
      "50%          22.000000\n",
      "75%          77.050000\n",
      "max       25691.160000\n",
      "Name: Amount, dtype: float64\n",
      "\n",
      "Summary of \"Amount\" in fraudulent transactions:\n",
      "count     492.000000\n",
      "mean      122.211321\n",
      "std       256.683288\n",
      "min         0.000000\n",
      "25%         1.000000\n",
      "50%         9.250000\n",
      "75%       105.890000\n",
      "max      2125.870000\n",
      "Name: Amount, dtype: float64\n"
     ]
    }
   ],
   "source": [
    "print('Summary of \"Amount\" in normal transactions:')\n",
    "print(normal_transactions['Amount'].describe())\n",
    "\n",
    "print()\n",
    "\n",
    "print('Summary of \"Amount\" in fraudulent transactions:')\n",
    "print(fraud_transactions['Amount'].describe())"
   ]
  },
  {
   "cell_type": "code",
   "execution_count": 15,
   "metadata": {},
   "outputs": [
    {
     "data": {
      "image/png": "[encoded data removed]",
      "text/plain": [
       "<Figure size 1080x360 with 2 Axes>"
      ]
     },
     "metadata": {
      "needs_background": "light"
     },
     "output_type": "display_data"
    }
   ],
   "source": [
    "plt.figure(figsize=(15,5));\n",
    "plt.subplot(1, 2, 1);\n",
    "fraud_transactions['Amount'].plot.hist(alpha=0.7, bins=30);\n",
    "plt.title('Histogram of Amounts in fraudulent transactions');\n",
    "\n",
    "plt.subplot(1, 2, 2);\n",
    "normal_transactions['Amount'].plot.hist(alpha=0.7, bins=30);\n",
    "plt.title('Histogram of Amounts in normal transactions');\n",
    "\n",
    "\n",
    "plt.subplots_adjust(wspace=0.2)\n",
    "plt.show()"
   ]
  },
  {
   "cell_type": "code",
   "execution_count": 16,
   "metadata": {},
   "outputs": [
    {
     "data": {
      "image/png": "[encoded data removed]",
      "text/plain": [
       "<Figure size 1080x360 with 2 Axes>"
      ]
     },
     "metadata": {
      "needs_background": "light"
     },
     "output_type": "display_data"
    }
   ],
   "source": [
    "plt.figure(figsize=(15, 5));\n",
    "\n",
    "plt.subplot(1, 2, 1);\n",
    "fraud_transactions['Amount'].plot.kde();\n",
    "plt.title('Density of Amounts in fraudulent transactions');\n",
    "\n",
    "plt.subplot(1, 2, 2);\n",
    "normal_transactions['Amount'].plot.kde();\n",
    "plt.title('Kernel Density Distribution of Amounts in normal transactions');"
   ]
  },
  {
   "cell_type": "code",
   "execution_count": 19,
   "metadata": {},
   "outputs": [
    {
     "data": {
      "image/png": "[encoded data removed]",
      "text/plain": [
       "<Figure size 576x360 with 1 Axes>"
      ]
     },
     "metadata": {
      "needs_background": "light"
     },
     "output_type": "display_data"
    }
   ],
   "source": [
    "plt.figure(figsize=(8, 5));\n",
    "plt.boxplot([normal_transactions['Amount'], fraud_transactions['Amount']], whis = 'range');\n",
    "plt.axes().set_xticklabels(['Normal', 'Fraudulent']);\n",
    "plt.xlabel('Class');\n",
    "plt.ylabel('Amount');\n",
    "plt.title('Box Plot of Normal vs. Fraudulent Transactions');"
   ]
  },
  {
   "cell_type": "markdown",
   "metadata": {},
   "source": [
    "## Naive Bayes: Baseline\n",
    "I use Naive Bayes as a baseline against more complicated models. "
   ]
  },
  {
   "cell_type": "code",
   "execution_count": 20,
   "metadata": {},
   "outputs": [],
   "source": [
    "# Split data into Training & Testing sets\n",
    "\n",
    "y = data['Class']\n",
    "X = data.drop(['Class'], axis=1)\n",
    "\n",
    "# Splitting data into training and testing sets\n",
    "X_train, X_test, y_train, y_test = train_test_split(X, y, test_size=0.4, random_state=1)"
   ]
  },
  {
   "cell_type": "code",
   "execution_count": 21,
   "metadata": {},
   "outputs": [
    {
     "name": "stdout",
     "output_type": "stream",
     "text": [
      "Mean f1-score (CV): 27.27 %\n",
      "\n",
      "Accuracy: 99.37%\n",
      "Precision: 15.39%\n",
      "Recall: 63.98%\n",
      "F1-Score: 24.82%\n",
      "PR AUC: 31.15 %\n"
     ]
    },
    {
     "data": {
      "image/png": "[encoded data removed]",
      "text/plain": [
       "<Figure size 432x288 with 2 Axes>"
      ]
     },
     "metadata": {
      "needs_background": "light"
     },
     "output_type": "display_data"
    },
    {
     "data": {
      "image/png": "[encoded data removed]",
      "text/plain": [
       "<Figure size 432x288 with 1 Axes>"
      ]
     },
     "metadata": {
      "needs_background": "light"
     },
     "output_type": "display_data"
    }
   ],
   "source": [
    "# Naive Bayes\n",
    "\n",
    "naive_model = GaussianNB()\n",
    "naive_cv_scores = cross_val_score(naive_model, X_train, y_train, scoring='f1', cv=10)\n",
    "print('Mean f1-score (CV): {:.2f} %'.format(np.mean(naive_cv_scores)*100 ))\n",
    "print()\n",
    "\n",
    "naive_model.fit(X_train, y_train)\n",
    "\n",
    "# predict\n",
    "predicted_test = naive_model.predict(X_test)\n",
    "probs_test = naive_model.predict_proba(X_test)\n",
    "probs_test = probs_test[:, 1]\n",
    "\n",
    "# confusion matrix\n",
    "confusion = pd.DataFrame(confusion_matrix(y_test, predicted_test))\n",
    "plt.figure();\n",
    "sns.heatmap(confusion, annot=True);\n",
    "plt.title('Confusion Matrix on Test Set');\n",
    "plt.ylabel('True label');\n",
    "plt.xlabel('Predicted label');\n",
    "\n",
    "# accuracy\n",
    "print('Accuracy: ' + format(round(accuracy_score(y_test, predicted_test)*100, 2)) + '%')\n",
    "\n",
    "# precision\n",
    "print('Precision: ' + format(round(precision_score(y_test, predicted_test)*100, 2)) + '%')\n",
    "\n",
    "# recall\n",
    "print('Recall: ' + format(round(recall_score(y_test, predicted_test)*100, 2)) + '%')\n",
    "\n",
    "# f1-score\n",
    "print('F1-Score: ' + format(round(f1_score(y_test, predicted_test)*100, 2)) + '%')\n",
    "\n",
    "# PR Curve\n",
    "precision_nb, recall_nb, threshold_nb = precision_recall_curve(y_test, probs_test)\n",
    "print('PR AUC: {:.2f} %' . format(auc(recall_nb, precision_nb)*100))\n",
    "plt.figure();\n",
    "plt.plot(precision_nb, recall_nb, marker = '.');\n",
    "plt.title('Precision-Recall Curve - Naive Bayes');\n",
    "plt.xlabel('Precision');\n",
    "plt.ylabel('Recall');\n"
   ]
  },
  {
   "cell_type": "markdown",
   "metadata": {},
   "source": [
    "## Logistic Regression"
   ]
  },
  {
   "cell_type": "code",
   "execution_count": 4,
   "metadata": {},
   "outputs": [],
   "source": [
    "# Split data into Training & Testing sets\n",
    "\n",
    "y = data['Class']\n",
    "X = data.drop(['Class'], axis=1)\n",
    "\n",
    "# Splitting data into training and testing sets\n",
    "X_train, X_test, y_train, y_test = train_test_split(X, y, test_size=0.4, random_state=1)"
   ]
  },
  {
   "cell_type": "code",
   "execution_count": 12,
   "metadata": {},
   "outputs": [
    {
     "name": "stdout",
     "output_type": "stream",
     "text": [
      "F1-Scores: \n",
      "[0.64516129 0.63333333 0.6557377  0.80597015 0.6557377  0.6557377\n",
      " 0.68852459 0.63333333 0.73015873 0.57627119]\n",
      "\n",
      "Average F1-Score: 66.80%\n"
     ]
    }
   ],
   "source": [
    "# Cross-Validation\n",
    "\n",
    "scaler = MinMaxScaler()\n",
    "model = LogisticRegression(max_iter = 1000, random_state=100)\n",
    "\n",
    "pipeline = Pipeline([('transform', scaler), ('estimator', model)])\n",
    "scores = cross_val_score(pipeline, X_train, y_train, cv = 10, scoring='f1')\n",
    "\n",
    "print('F1-Scores: \\n' + format(scores))\n",
    "print('\\nAverage F1-Score: {:.2f}' .format(np.mean(scores)*100) + '%')"
   ]
  },
  {
   "cell_type": "code",
   "execution_count": 15,
   "metadata": {},
   "outputs": [],
   "source": [
    "# data transformation\n",
    "scaler = MinMaxScaler().fit(X_train)\n",
    "X_train_scaled = scaler.transform(X_train)\n",
    "\n",
    "# train\n",
    "logistic_model = model.fit(X_train_scaled, y_train)"
   ]
  },
  {
   "cell_type": "code",
   "execution_count": 23,
   "metadata": {},
   "outputs": [
    {
     "name": "stdout",
     "output_type": "stream",
     "text": [
      "Accuracy: 99.91%\n",
      "Precision: 84.82%\n",
      "Recall: 51.08%\n",
      "F1-Score: 63.76%\n",
      "PR AUC: 70.01 %\n"
     ]
    },
    {
     "data": {
      "image/png": "[encoded data removed]",
      "text/plain": [
       "<Figure size 432x288 with 2 Axes>"
      ]
     },
     "metadata": {},
     "output_type": "display_data"
    },
    {
     "data": {
      "image/png": "[encoded data removed]",
      "text/plain": [
       "<Figure size 432x288 with 1 Axes>"
      ]
     },
     "metadata": {},
     "output_type": "display_data"
    }
   ],
   "source": [
    "# Evaluate\n",
    "\n",
    "\n",
    "# data transformation\n",
    "X_test_scaled = scaler.transform(X_test)\n",
    "\n",
    "# predict\n",
    "predicted_test = logistic_model.predict(X_test_scaled)\n",
    "probs_test = logistic_model.predict_proba(X_test_scaled)\n",
    "probs_test = probs_test[:, 1]\n",
    "\n",
    "# confusion matrix\n",
    "confusion = pd.DataFrame(confusion_matrix(y_test, predicted_test))\n",
    "plt.figure();\n",
    "sns.heatmap(confusion, annot=True);\n",
    "plt.title('Confusion Matrix on Test Set');\n",
    "plt.ylabel('True label');\n",
    "plt.xlabel('Predicted label');\n",
    "\n",
    "# accuracy\n",
    "print('Accuracy: ' + format(round(accuracy_score(y_test, predicted_test)*100, 2)) + '%')\n",
    "\n",
    "# precision\n",
    "print('Precision: ' + format(round(precision_score(y_test, predicted_test)*100, 2)) + '%')\n",
    "\n",
    "# recall\n",
    "print('Recall: ' + format(round(recall_score(y_test, predicted_test)*100, 2)) + '%')\n",
    "\n",
    "# f1-score\n",
    "print('F1-Score: ' + format(round(f1_score(y_test, predicted_test)*100, 2)) + '%')\n",
    "\n",
    "# PR Curve\n",
    "precision_log, recall_log, threshold_log = precision_recall_curve(y_test, probs_test)\n",
    "print('PR AUC: {:.2f} %' . format(auc(recall_log, precision_log)*100))\n",
    "plt.figure();\n",
    "plt.plot(precision_log, recall_log, marker = '.');\n",
    "plt.title('Precision-Recall Curve - Logistic Regression');\n",
    "plt.xlabel('Precision');\n",
    "plt.ylabel('Recall');\n"
   ]
  },
  {
   "cell_type": "markdown",
   "metadata": {},
   "source": [
    "## Random Forest"
   ]
  },
  {
   "cell_type": "code",
   "execution_count": 36,
   "metadata": {},
   "outputs": [],
   "source": [
    "# split the data\n",
    "\n",
    "y = data['Class']\n",
    "X = data.drop(['Class'], axis=1)\n",
    "\n",
    "# Splitting data into training, validation, testing sets\n",
    "X_train, X_test, y_train, y_test = train_test_split(X, y, test_size=0.4, random_state=100)"
   ]
  },
  {
   "cell_type": "code",
   "execution_count": 33,
   "metadata": {},
   "outputs": [
    {
     "name": "stdout",
     "output_type": "stream",
     "text": [
      "Best hyper parameters: {'estimator__n_estimators': 80, 'estimator__max_depth': 60}\n"
     ]
    }
   ],
   "source": [
    "# random forest model initialization\n",
    "rf_model = RandomForestClassifier(random_state=100)\n",
    "\n",
    "# scaler initialization\n",
    "scaler = MinMaxScaler()\n",
    "\n",
    "# pipline to fit into the Random Search CV\n",
    "pipeline = Pipeline([('transformer', scaler), ('estimator', rf_model)])\n",
    "\n",
    "# parameters to optimize through CV\n",
    "max_depth = [x for x in np.arange(10, 110, 10)]\n",
    "max_depth.append(None)\n",
    "params = {'estimator__n_estimators': np.arange(30, 100, 10), 'estimator__max_depth': max_depth}\n",
    "\n",
    "# Radnomized Search Cross-Validation to tune hyper parameters\n",
    "searchcv = RandomizedSearchCV(pipeline, params, scoring='f1', random_state=100).fit(X_train, y_train)\n",
    "best_estimator_rf = searchcv.best_estimator_\n",
    "best_params_rf = searchcv.best_params_\n",
    "\n",
    "print('Best hyper parameters: ' + format(best_params_rf))"
   ]
  },
  {
   "cell_type": "code",
   "execution_count": 34,
   "metadata": {},
   "outputs": [],
   "source": [
    "# train\n",
    "\n",
    "X_train_scaled = scaler.fit_transform(X_train)\n",
    "rf_model = RandomForestClassifier(n_estimators=80, max_depth=60, random_state=100).fit(X_train_scaled, y_train)"
   ]
  },
  {
   "cell_type": "code",
   "execution_count": 35,
   "metadata": {},
   "outputs": [],
   "source": [
    "# data transformation test\n",
    "X_test_scaled = scaler.transform(X_test)\n",
    "\n",
    "# prediction\n",
    "predicted_test_rf = rf_model.predict(X_test_scaled)\n",
    "probs_test_rf = rf_model.predict_proba(X_test_scaled)\n",
    "probs_test_rf = probs_test_rf[:, 1]"
   ]
  },
  {
   "cell_type": "code",
   "execution_count": 36,
   "metadata": {},
   "outputs": [
    {
     "name": "stdout",
     "output_type": "stream",
     "text": [
      "Accuracy: 99.97%\n",
      "Precision: 95.21%\n",
      "Recall: 85.48%\n",
      "F1-Score: 90.08%\n",
      "PR AUC: 88.87 %\n"
     ]
    },
    {
     "data": {
      "image/png": "[encoded data removed]",
      "text/plain": [
       "<Figure size 432x288 with 2 Axes>"
      ]
     },
     "metadata": {},
     "output_type": "display_data"
    },
    {
     "data": {
      "image/png": "[encoded data removed]",
      "text/plain": [
       "<Figure size 432x288 with 1 Axes>"
      ]
     },
     "metadata": {},
     "output_type": "display_data"
    }
   ],
   "source": [
    "# confusion matrix\n",
    "confusion = pd.DataFrame(confusion_matrix(y_test, predicted_test_rf))\n",
    "plt.figure();\n",
    "sns.heatmap(confusion, annot=True);\n",
    "plt.title('Confusion Matrix: Random Forest');\n",
    "plt.ylabel('True label');\n",
    "plt.xlabel('Predicted label');\n",
    "\n",
    "# accuracy\n",
    "print('Accuracy: ' + format(round(accuracy_score(y_test, predicted_test_rf)*100, 2)) + '%')\n",
    "\n",
    "# precision\n",
    "print('Precision: ' + format(round(precision_score(y_test, predicted_test_rf)*100, 2)) + '%')\n",
    "\n",
    "# recall\n",
    "print('Recall: ' + format(round(recall_score(y_test, predicted_test_rf)*100, 2)) + '%')\n",
    "\n",
    "# f1-score\n",
    "print('F1-Score: ' + format(round(f1_score(y_test, predicted_test_rf)*100, 2)) + '%')\n",
    "\n",
    "# PR Curve\n",
    "precision_rf, recall_rf, threshold_rf = precision_recall_curve(y_test, probs_test_rf)\n",
    "print('PR AUC: {:.2f} %' . format(auc(recall_rf, precision_rf)*100))\n",
    "plt.figure();\n",
    "plt.plot(precision_rf, recall_rf, marker = '.');\n",
    "plt.title('Precision-Recall Curve - Random Forest');\n",
    "plt.xlabel('Precision');\n",
    "plt.ylabel('Recall');\n"
   ]
  },
  {
   "cell_type": "markdown",
   "metadata": {},
   "source": [
    "## Gradient Boosting Trees"
   ]
  },
  {
   "cell_type": "code",
   "execution_count": 49,
   "metadata": {},
   "outputs": [],
   "source": [
    "y = data['Class']\n",
    "X = data.drop(['Class'], axis=1)\n",
    "\n",
    "# Splitting data into training, validation, testing sets\n",
    "X_train, X_test, y_train, y_test = train_test_split(X, y, test_size=0.4, random_state=100)"
   ]
  },
  {
   "cell_type": "code",
   "execution_count": 38,
   "metadata": {},
   "outputs": [
    {
     "name": "stdout",
     "output_type": "stream",
     "text": [
      "Best hyper parameters: {'estimator__subsample': 1.0, 'estimator__n_estimators': 100, 'estimator__max_depth': None, 'estimator__learning_rate': 0.1}\n"
     ]
    }
   ],
   "source": [
    "# gradient boosting model initialization\n",
    "gb_model = GradientBoostingClassifier()\n",
    "\n",
    "# scaler initialization\n",
    "scaler = MinMaxScaler()\n",
    "\n",
    "# pipline to fit into the Random Search CV\n",
    "pipeline = Pipeline([('transformer', scaler), ('estimator', gb_model)])\n",
    "\n",
    "# parameters to optimize through CV\n",
    "max_depth = [x for x in np.arange(10, 110, 11)]\n",
    "max_depth.append(None)\n",
    "params = {'estimator__learning_rate': np.linspace(0.08, 0.3, 12), \n",
    "          'estimator__n_estimators': np.arange(40, 150, 10),\n",
    "         'estimator__subsample': [0.8, 0.9, 1.0],\n",
    "         'estimator__max_depth': max_depth}\n",
    "\n",
    "# Radnomized Search Cross-Validation to tune hyper parameters\n",
    "searchcv = RandomizedSearchCV(pipeline, params, random_state=100, scoring='f1')\n",
    "searchcv.fit(X_train, y_train)\n",
    "best_estimator_gb = searchcv.best_estimator_\n",
    "best_params_gb = searchcv.best_params_\n",
    "\n",
    "print('Best hyper parameters: ' + format(best_params_gb))"
   ]
  },
  {
   "cell_type": "code",
   "execution_count": 39,
   "metadata": {},
   "outputs": [],
   "source": [
    "# train\n",
    "\n",
    "X_train_scaled = scaler.fit_transform(X_train)\n",
    "gb_model = GradientBoostingClassifier(subsample= 1.0, n_estimators= 100, \n",
    "                                      max_depth= None, learning_rate= 0.1).fit(X_train_scaled, y_train)"
   ]
  },
  {
   "cell_type": "code",
   "execution_count": 40,
   "metadata": {},
   "outputs": [],
   "source": [
    "# data transformation test\n",
    "X_test_scaled = scaler.transform(X_test)\n",
    "\n",
    "# prediction\n",
    "predicted_test_gb = gb_model.predict(X_test_scaled)\n",
    "probs_test_gb = gb_model.predict_proba(X_test_scaled)\n",
    "probs_test_gb = probs_test_gb[:, 1]"
   ]
  },
  {
   "cell_type": "code",
   "execution_count": 41,
   "metadata": {},
   "outputs": [
    {
     "name": "stdout",
     "output_type": "stream",
     "text": [
      "Accuracy: 99.94%\n",
      "Precision: 82.26%\n",
      "Recall: 82.26%\n",
      "F1-Score: 82.26%\n",
      "PR AUC: 82.27 %\n"
     ]
    },
    {
     "data": {
      "image/png": "[encoded data removed]",
      "text/plain": [
       "<Figure size 432x288 with 2 Axes>"
      ]
     },
     "metadata": {},
     "output_type": "display_data"
    },
    {
     "data": {
      "image/png": "[encoded data removed]",
      "text/plain": [
       "<Figure size 432x288 with 1 Axes>"
      ]
     },
     "metadata": {},
     "output_type": "display_data"
    }
   ],
   "source": [
    "# confusion matrix\n",
    "confusion = pd.DataFrame(confusion_matrix(y_test, predicted_test_gb))\n",
    "plt.figure();\n",
    "sns.heatmap(confusion, annot=True);\n",
    "plt.title('Confusion Matrix: Gradient Boosting');\n",
    "plt.ylabel('True label');\n",
    "plt.xlabel('Predicted label');\n",
    "\n",
    "# accuracy\n",
    "print('Accuracy: ' + format(round(accuracy_score(y_test, predicted_test_gb)*100, 2)) + '%')\n",
    "\n",
    "# precision\n",
    "print('Precision: ' + format(round(precision_score(y_test, predicted_test_gb)*100, 2)) + '%')\n",
    "\n",
    "# recall\n",
    "print('Recall: ' + format(round(recall_score(y_test, predicted_test_gb)*100, 2)) + '%')\n",
    "\n",
    "# f1-score\n",
    "print('F1-Score: ' + format(round(f1_score(y_test, predicted_test_gb)*100, 2)) + '%')\n",
    "\n",
    "# PR Curve\n",
    "precision_gb, recall_gb, _ = precision_recall_curve(y_test, probs_test_gb)\n",
    "print('PR AUC: {:.2f} %' . format(auc(recall_gb, precision_gb)*100))\n",
    "plt.figure();\n",
    "plt.plot(precision_gb, recall_gb, marker = '.');\n",
    "plt.title('Precision-Recall Curve - Gradient Boosting Trees');\n",
    "plt.xlabel('Precision');\n",
    "plt.ylabel('Recall');"
   ]
  },
  {
   "cell_type": "markdown",
   "metadata": {},
   "source": [
    "## Isolation Forest\n",
    "Although the dataset is labeled, we can see this problem as an unsupervised outlier detection one, and use the labels to evaluate the accuracy of the model."
   ]
  },
  {
   "cell_type": "code",
   "execution_count": 50,
   "metadata": {},
   "outputs": [
    {
     "name": "stdout",
     "output_type": "stream",
     "text": [
      "\"Accuracy\" on the Validation set: 90.31%\n",
      "\"Accuracy\" on the Testing set: 90.26%\n",
      "\n",
      "\"Precision\" on the Validation set: 99.97%\n",
      "\"Precision\" on the Testing set: 99.98%\n",
      "\n",
      "\"Recall\" on the Validation set: 90.32%\n",
      "\"Recall\" on the Testing set: 90.26%\n",
      "\n",
      "\"F1-Score\" on the Validation set: 94.9%\n",
      "\"F1-Score\" on the Testing set: 94.87%\n"
     ]
    }
   ],
   "source": [
    "# Isolation Forests (Good Result)\n",
    "\n",
    "data_iso = deepcopy(data)\n",
    "data_iso.loc[data_iso['Class']==1, 'Class'] = -1\n",
    "data_iso.loc[data_iso['Class']==0, 'Class'] = 1\n",
    "\n",
    "y = data_iso['Class']\n",
    "X = data_iso.drop(['Class'], axis=1)\n",
    "\n",
    "# Splitting data into training, validation, and testing sets\n",
    "X_train, X_test, y_train, y_test = train_test_split(X, y, test_size=0.4, random_state=1)\n",
    "X_train, X_valid, y_train, y_valid = train_test_split(X_train, y_train, test_size=0.25, random_state=1)\n",
    "\n",
    "# train\n",
    "iForests1 = IsolationForest(n_estimators=100, max_samples=250, random_state =100, behaviour = 'new')\n",
    "iForests1.fit(X_train)\n",
    "\n",
    "# predict\n",
    "predicted_valid = iForests1.predict(X_valid)\n",
    "predicted_test = iForests1.predict(X_test)\n",
    "\n",
    "\n",
    "# accuracy\n",
    "print('\"Accuracy\" on the Validation set: ' + format(round(accuracy_score(y_valid, predicted_valid)*100, 2)) + '%')\n",
    "print('\"Accuracy\" on the Testing set: ' + format(round(accuracy_score(y_test, predicted_test)*100, 2)) + '%')\n",
    "\n",
    "# precision\n",
    "print('\\n\"Precision\" on the Validation set: ' + format(round(precision_score(y_valid, predicted_valid)*100, 2)) + '%')\n",
    "print('\"Precision\" on the Testing set: ' + format(round(precision_score(y_test, predicted_test)*100, 2)) + '%')\n",
    "\n",
    "# recall\n",
    "print('\\n\"Recall\" on the Validation set: ' + format(round(recall_score(y_valid, predicted_valid)*100, 2)) + '%')\n",
    "print('\"Recall\" on the Testing set: ' + format(round(recall_score(y_test, predicted_test)*100, 2)) + '%')\n",
    "\n",
    "# f1-score\n",
    "print('\\n\"F1-Score\" on the Validation set: ' + format(round(f1_score(y_valid, predicted_valid)*100, 2)) + '%')\n",
    "print('\"F1-Score\" on the Testing set: ' + format(round(f1_score(y_test, predicted_test)*100, 2)) + '%')"
   ]
  },
  {
   "cell_type": "code",
   "execution_count": 56,
   "metadata": {},
   "outputs": [
    {
     "name": "stdout",
     "output_type": "stream",
     "text": [
      "The best hyper parameters: {'n_estimators': 140, 'max_samples': 270}\n",
      "The best f1-score: 94.84%\n",
      "\n",
      "Accuracy: 90.1%\n",
      "Precision: 99.98%\n",
      "Recall: 90.11%\n",
      "F1-Score: 94.79%\n"
     ]
    }
   ],
   "source": [
    "# Tune the hyper parameters (RandomSearchCV) - Isolation Forests\n",
    "\n",
    "data_iso = deepcopy(data)\n",
    "data_iso.loc[data_iso['Class']==1, 'Class'] = -1\n",
    "data_iso.loc[data_iso['Class']==0, 'Class'] = 1\n",
    "\n",
    "y = data_iso['Class']\n",
    "X = data_iso.drop(['Class'], axis=1)\n",
    "\n",
    "# Splitting data into training and testing sets\n",
    "X_train, X_test, y_train, y_test = train_test_split(X, y, test_size=0.5, random_state=1)\n",
    "\n",
    "iForests2 = IsolationForest(random_state =100, behaviour = 'new')\n",
    "params = {'n_estimators':np.arange(100, 150 , 10), 'max_samples':np.arange(250, 300, 20)}\n",
    "\n",
    "# find the best estimator\n",
    "randsearch = RandomizedSearchCV(iForests2, params, scoring = 'f1', random_state=100)\n",
    "search = randsearch.fit(X_train, y_train)\n",
    "best_estimator_iForest = search.best_estimator_\n",
    "best_params = search.best_params_\n",
    "best_score = search.best_score_\n",
    "\n",
    "print('The best hyper parameters: ' + format(best_params))\n",
    "print('The best f1-score: ' + format(round(best_score*100, 2)) + '%')\n",
    "\n",
    "# test\n",
    "predicted_test = best_estimator_iForest.predict(X_test)\n",
    "\n",
    "# accuracy\n",
    "print('\\nAccuracy: ' + format(round(accuracy_score(y_test, predicted_test)*100, 2)) + '%')\n",
    "\n",
    "# precision\n",
    "print('Precision: ' + format(round(precision_score(y_test, predicted_test)*100, 2)) + '%')\n",
    "\n",
    "# recall\n",
    "print('Recall: ' + format(round(recall_score(y_test, predicted_test)*100, 2)) + '%')\n",
    "\n",
    "# f1-score\n",
    "print('F1-Score: ' + format(round(f1_score(y_test, predicted_test)*100, 2)) + '%')"
   ]
  }
 ],
 "metadata": {
  "kernelspec": {
   "display_name": "Python 3",
   "language": "python",
   "name": "python3"
  },
  "language_info": {
   "codemirror_mode": {
    "name": "ipython",
    "version": 3
   },
   "file_extension": ".py",
   "mimetype": "text/x-python",
   "name": "python",
   "nbconvert_exporter": "python",
   "pygments_lexer": "ipython3",
   "version": "3.7.3"
  }
 },
 "nbformat": 4,
 "nbformat_minor": 2
}
